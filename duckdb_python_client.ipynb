{
 "cells": [
  {
   "cell_type": "markdown",
   "metadata": {},
   "source": [
    "# Duck DB with the Python client\n",
    "\n",
    "[Documentation](https://duckdb.org/docs/api/python/overview)"
   ]
  },
  {
   "cell_type": "markdown",
   "metadata": {},
   "source": [
    "Clean up previous runs"
   ]
  },
  {
   "cell_type": "code",
   "execution_count": 1,
   "metadata": {},
   "outputs": [],
   "source": [
    "!rm -r db\n",
    "!mkdir db\n",
    "!rm -r output\n",
    "!mkdir output"
   ]
  },
  {
   "cell_type": "markdown",
   "metadata": {},
   "source": [
    "Install necessary libraries"
   ]
  },
  {
   "cell_type": "code",
   "execution_count": 2,
   "metadata": {},
   "outputs": [],
   "source": [
    "%%capture\n",
    "!pip install duckdb fsspec gcsfs pandas pyarrow gcsfs jupysql duckdb-engine polars\n",
    "%load_ext sql"
   ]
  },
  {
   "cell_type": "markdown",
   "metadata": {},
   "source": [
    "Authenticate with gcloud CLI"
   ]
  },
  {
   "cell_type": "code",
   "execution_count": 3,
   "metadata": {},
   "outputs": [],
   "source": [
    "# !gcloud auth application-default login"
   ]
  },
  {
   "cell_type": "markdown",
   "metadata": {},
   "source": [
    "Register the GCS filesystem ([source](https://duckdb.org/docs/guides/python/filesystems) of this GCS connection code)"
   ]
  },
  {
   "cell_type": "code",
   "execution_count": 2,
   "metadata": {},
   "outputs": [],
   "source": [
    "import duckdb\n",
    "import pandas as pd\n",
    "import polars as pl\n",
    "from fsspec import filesystem\n",
    "import sys\n",
    "\n",
    "duckdb.register_filesystem(filesystem('gcs'))"
   ]
  },
  {
   "cell_type": "markdown",
   "metadata": {},
   "source": [
    "Create a table from a remote CSV "
   ]
  },
  {
   "cell_type": "code",
   "execution_count": 5,
   "metadata": {},
   "outputs": [],
   "source": [
    "duckdb.sql(\"CREATE TABLE taxi_zone_lookup as FROM read_csv('gs://anna_demo/taxi_zone_lookup.csv')\")"
   ]
  },
  {
   "cell_type": "markdown",
   "metadata": {},
   "source": [
    "We can now query this table directly"
   ]
  },
  {
   "cell_type": "code",
   "execution_count": 6,
   "metadata": {},
   "outputs": [
    {
     "data": {
      "text/plain": [
       "┌────────────┬───────────┬───────────────────────────┬──────────────┐\n",
       "│ LocationID │  Borough  │           Zone            │ service_zone │\n",
       "│   int64    │  varchar  │          varchar          │   varchar    │\n",
       "├────────────┼───────────┼───────────────────────────┼──────────────┤\n",
       "│          4 │ Manhattan │ Alphabet City             │ Yellow Zone  │\n",
       "│         12 │ Manhattan │ Battery Park              │ Yellow Zone  │\n",
       "│         13 │ Manhattan │ Battery Park City         │ Yellow Zone  │\n",
       "│         24 │ Manhattan │ Bloomingdale              │ Yellow Zone  │\n",
       "│         41 │ Manhattan │ Central Harlem            │ Boro Zone    │\n",
       "│         42 │ Manhattan │ Central Harlem North      │ Boro Zone    │\n",
       "│         43 │ Manhattan │ Central Park              │ Yellow Zone  │\n",
       "│         45 │ Manhattan │ Chinatown                 │ Yellow Zone  │\n",
       "│         48 │ Manhattan │ Clinton East              │ Yellow Zone  │\n",
       "│         50 │ Manhattan │ Clinton West              │ Yellow Zone  │\n",
       "│          · │     ·     │      ·                    │      ·       │\n",
       "│          · │     ·     │      ·                    │      ·       │\n",
       "│          · │     ·     │      ·                    │      ·       │\n",
       "│        237 │ Manhattan │ Upper East Side South     │ Yellow Zone  │\n",
       "│        238 │ Manhattan │ Upper West Side North     │ Yellow Zone  │\n",
       "│        239 │ Manhattan │ Upper West Side South     │ Yellow Zone  │\n",
       "│        243 │ Manhattan │ Washington Heights North  │ Boro Zone    │\n",
       "│        244 │ Manhattan │ Washington Heights South  │ Boro Zone    │\n",
       "│        246 │ Manhattan │ West Chelsea/Hudson Yards │ Yellow Zone  │\n",
       "│        249 │ Manhattan │ West Village              │ Yellow Zone  │\n",
       "│        261 │ Manhattan │ World Trade Center        │ Yellow Zone  │\n",
       "│        262 │ Manhattan │ Yorkville East            │ Yellow Zone  │\n",
       "│        263 │ Manhattan │ Yorkville West            │ Yellow Zone  │\n",
       "├────────────┴───────────┴───────────────────────────┴──────────────┤\n",
       "│ 69 rows (20 shown)                                      4 columns │\n",
       "└───────────────────────────────────────────────────────────────────┘"
      ]
     },
     "execution_count": 6,
     "metadata": {},
     "output_type": "execute_result"
    }
   ],
   "source": [
    "duckdb.sql(\"FROM taxi_zone_lookup WHERE Borough = 'Manhattan'\")"
   ]
  },
  {
   "cell_type": "markdown",
   "metadata": {},
   "source": [
    "NOTE: `duckdb.sql` is using an [in-memory DB](https://duckdb.org/docs/api/python/overview#using-an-in-memory-database) i.e. the tables are not persisted. If we want to create a [persistent DB](https://duckdb.org/docs/api/python/overview#persistent-storage), we can first create a connection.\n",
    "\n",
    "Observe: If we're doing `duckdb.sql()` we can omit the `read_parquet/read_csv` altogether because duckdb infers it from the file format"
   ]
  },
  {
   "cell_type": "code",
   "execution_count": 7,
   "metadata": {},
   "outputs": [],
   "source": [
    "con = duckdb.connect(\"db/my_persistent_db.db\")\n",
    "con.register_filesystem(filesystem('gcs'))\n",
    "con.sql(\"CREATE TABLE taxi_zone_lookup_table as FROM 'gs://anna_demo/taxi_zone_lookup.csv'\")"
   ]
  },
  {
   "cell_type": "code",
   "execution_count": 8,
   "metadata": {},
   "outputs": [],
   "source": [
    "con.sql(\"CREATE TABLE yellow_tripdata_2024_table as FROM read_parquet('gs://anna_demo/yellow_tripdata_2024-01.parquet')\")\n",
    "con.sql(\"INSERT INTO yellow_tripdata_2024_table FROM 'gs://anna_demo/yellow_tripdata_2024-02.parquet'\")\n"
   ]
  },
  {
   "cell_type": "markdown",
   "metadata": {},
   "source": [
    "According to the [documentation](https://duckdb.org/duckdb-docs.pdf), for CSV files, files will be downloaded entirely in most cases, due to the row‑based nature of the format. \n",
    "\n",
    "For Parquet files, DuckDB supports partial reading, i.e., it can use a combination of the Parquet metadata and HTTP range requests to only download the parts of the file that are actually required by the query"
   ]
  },
  {
   "cell_type": "code",
   "execution_count": 9,
   "metadata": {},
   "outputs": [
    {
     "data": {
      "text/plain": [
       "┌──────────────┐\n",
       "│ total_amount │\n",
       "│    double    │\n",
       "├──────────────┤\n",
       "│        26.78 │\n",
       "│         45.0 │\n",
       "│        82.69 │\n",
       "│        17.15 │\n",
       "│         20.6 │\n",
       "└──────────────┘"
      ]
     },
     "execution_count": 9,
     "metadata": {},
     "output_type": "execute_result"
    }
   ],
   "source": [
    "duckdb.sql(\"\"\"SELECT total_amount\n",
    "FROM 'gs://anna_demo/yellow_tripdata_2024-02.parquet'\n",
    "LIMIT 5;\"\"\")"
   ]
  },
  {
   "cell_type": "markdown",
   "metadata": {},
   "source": [
    "In some cases, no actual data needs to be read at all as they only require reading the metadata e.g. counting rows"
   ]
  },
  {
   "cell_type": "code",
   "execution_count": 10,
   "metadata": {},
   "outputs": [
    {
     "data": {
      "text/plain": [
       "┌──────────────┐\n",
       "│ count_star() │\n",
       "│    int64     │\n",
       "├──────────────┤\n",
       "│      3007526 │\n",
       "└──────────────┘"
      ]
     },
     "execution_count": 10,
     "metadata": {},
     "output_type": "execute_result"
    }
   ],
   "source": [
    "duckdb.sql(\"\"\"SELECT count(*)\n",
    "FROM 'gs://anna_demo/yellow_tripdata_2024-02.parquet';\"\"\")"
   ]
  },
  {
   "cell_type": "markdown",
   "metadata": {},
   "source": [
    "Ok, back to the DB connection we made. We can query the table we created using the `table` function"
   ]
  },
  {
   "cell_type": "code",
   "execution_count": 11,
   "metadata": {},
   "outputs": [
    {
     "data": {
      "text/plain": [
       "┌────────────┬───────────────┬───────────────────────────┬──────────────┐\n",
       "│ LocationID │    Borough    │           Zone            │ service_zone │\n",
       "│   int64    │    varchar    │          varchar          │   varchar    │\n",
       "├────────────┼───────────────┼───────────────────────────┼──────────────┤\n",
       "│          1 │ EWR           │ Newark Airport            │ EWR          │\n",
       "│          2 │ Queens        │ Jamaica Bay               │ Boro Zone    │\n",
       "│          3 │ Bronx         │ Allerton/Pelham Gardens   │ Boro Zone    │\n",
       "│          4 │ Manhattan     │ Alphabet City             │ Yellow Zone  │\n",
       "│          5 │ Staten Island │ Arden Heights             │ Boro Zone    │\n",
       "│          6 │ Staten Island │ Arrochar/Fort Wadsworth   │ Boro Zone    │\n",
       "│          7 │ Queens        │ Astoria                   │ Boro Zone    │\n",
       "│          8 │ Queens        │ Astoria Park              │ Boro Zone    │\n",
       "│          9 │ Queens        │ Auburndale                │ Boro Zone    │\n",
       "│         10 │ Queens        │ Baisley Park              │ Boro Zone    │\n",
       "│          · │   ·           │      ·                    │     ·        │\n",
       "│          · │   ·           │      ·                    │     ·        │\n",
       "│          · │   ·           │      ·                    │     ·        │\n",
       "│        256 │ Brooklyn      │ Williamsburg (South Side) │ Boro Zone    │\n",
       "│        257 │ Brooklyn      │ Windsor Terrace           │ Boro Zone    │\n",
       "│        258 │ Queens        │ Woodhaven                 │ Boro Zone    │\n",
       "│        259 │ Bronx         │ Woodlawn/Wakefield        │ Boro Zone    │\n",
       "│        260 │ Queens        │ Woodside                  │ Boro Zone    │\n",
       "│        261 │ Manhattan     │ World Trade Center        │ Yellow Zone  │\n",
       "│        262 │ Manhattan     │ Yorkville East            │ Yellow Zone  │\n",
       "│        263 │ Manhattan     │ Yorkville West            │ Yellow Zone  │\n",
       "│        264 │ Unknown       │ N/A                       │ N/A          │\n",
       "│        265 │ N/A           │ Outside of NYC            │ N/A          │\n",
       "├────────────┴───────────────┴───────────────────────────┴──────────────┤\n",
       "│ 265 rows (20 shown)                                         4 columns │\n",
       "└───────────────────────────────────────────────────────────────────────┘"
      ]
     },
     "execution_count": 11,
     "metadata": {},
     "output_type": "execute_result"
    }
   ],
   "source": [
    "con.table(\"taxi_zone_lookup_table\")"
   ]
  },
  {
   "cell_type": "markdown",
   "metadata": {},
   "source": [
    "We can also check the columns with `describe` (there are probably more interesting functions but I haven't explored much)"
   ]
  },
  {
   "cell_type": "code",
   "execution_count": 12,
   "metadata": {},
   "outputs": [
    {
     "data": {
      "text/plain": [
       "┌─────────┬─────────────────────┬──────────────────────┬───┬──────────────────────┬────────────────────┐\n",
       "│  aggr   │      VendorID       │ tpep_pickup_datetime │ … │ congestion_surcharge │    Airport_fee     │\n",
       "│ varchar │       double        │       varchar        │   │        double        │       double       │\n",
       "├─────────┼─────────────────────┼──────────────────────┼───┼──────────────────────┼────────────────────┤\n",
       "│ count   │           5972150.0 │ 5972150              │ … │            5646378.0 │          5646378.0 │\n",
       "│ mean    │   1.754722503620974 │ NULL                 │ … │    2.261295382632902 │  0.135142962444243 │\n",
       "│ stddev  │ 0.43126231634052253 │ NULL                 │ … │   0.8183577430533403 │ 0.4783123471983139 │\n",
       "│ min     │                 1.0 │ 2002-12-31 22:59:39  │ … │                 -2.5 │              -1.75 │\n",
       "│ max     │                 6.0 │ 2024-03-01 00:01:37  │ … │                  2.5 │               1.75 │\n",
       "│ median  │                 2.0 │ NULL                 │ … │                  2.5 │                0.0 │\n",
       "├─────────┴─────────────────────┴──────────────────────┴───┴──────────────────────┴────────────────────┤\n",
       "│ 6 rows                                                                          20 columns (5 shown) │\n",
       "└──────────────────────────────────────────────────────────────────────────────────────────────────────┘"
      ]
     },
     "execution_count": 12,
     "metadata": {},
     "output_type": "execute_result"
    }
   ],
   "source": [
    "con.table(\"yellow_tripdata_2024_table\").describe()"
   ]
  },
  {
   "cell_type": "markdown",
   "metadata": {},
   "source": [
    "We can connect using the DuckDB SQL extension now if we want, to see the table (we need to make sure to close the connection first otherwise it will be locked)"
   ]
  },
  {
   "cell_type": "code",
   "execution_count": 13,
   "metadata": {},
   "outputs": [],
   "source": [
    "con.close()"
   ]
  },
  {
   "cell_type": "markdown",
   "metadata": {},
   "source": [
    "We can also connect directly from the jupyter sql magic extension which we loaded above"
   ]
  },
  {
   "cell_type": "code",
   "execution_count": 14,
   "metadata": {
    "vscode": {
     "languageId": "sql"
    }
   },
   "outputs": [
    {
     "data": {
      "text/html": [
       "<span style=\"None\">Connecting to &#x27;duckdb:///db/my_persistent_db.db&#x27;</span>"
      ],
      "text/plain": [
       "Connecting to 'duckdb:///db/my_persistent_db.db'"
      ]
     },
     "metadata": {},
     "output_type": "display_data"
    },
    {
     "data": {
      "text/html": [
       "<table>\n",
       "    <thead>\n",
       "        <tr>\n",
       "            <th>Zone</th>\n",
       "        </tr>\n",
       "    </thead>\n",
       "    <tbody>\n",
       "        <tr>\n",
       "            <td>Allerton/Pelham Gardens</td>\n",
       "        </tr>\n",
       "        <tr>\n",
       "            <td>Alphabet City</td>\n",
       "        </tr>\n",
       "        <tr>\n",
       "            <td>Arden Heights</td>\n",
       "        </tr>\n",
       "        <tr>\n",
       "            <td>Arrochar/Fort Wadsworth</td>\n",
       "        </tr>\n",
       "        <tr>\n",
       "            <td>Astoria</td>\n",
       "        </tr>\n",
       "    </tbody>\n",
       "</table>"
      ],
      "text/plain": [
       "+-------------------------+\n",
       "|           Zone          |\n",
       "+-------------------------+\n",
       "| Allerton/Pelham Gardens |\n",
       "|      Alphabet City      |\n",
       "|      Arden Heights      |\n",
       "| Arrochar/Fort Wadsworth |\n",
       "|         Astoria         |\n",
       "+-------------------------+"
      ]
     },
     "execution_count": 14,
     "metadata": {},
     "output_type": "execute_result"
    }
   ],
   "source": [
    "%%sql duckdb:///db/my_persistent_db.db\n",
    "SELECT DISTINCT Zone FROM taxi_zone_lookup_table ORDER BY Zone LIMIT 5"
   ]
  },
  {
   "cell_type": "code",
   "execution_count": 15,
   "metadata": {},
   "outputs": [
    {
     "data": {
      "text/plain": [
       "┌─────────────────────────┐\n",
       "│          Zone           │\n",
       "│         varchar         │\n",
       "├─────────────────────────┤\n",
       "│ Allerton/Pelham Gardens │\n",
       "│ Alphabet City           │\n",
       "│ Arden Heights           │\n",
       "│ Arrochar/Fort Wadsworth │\n",
       "│ Astoria                 │\n",
       "└─────────────────────────┘"
      ]
     },
     "execution_count": 15,
     "metadata": {},
     "output_type": "execute_result"
    }
   ],
   "source": [
    "# NOTE: This is not locked by the juptyer sql magic, but we cannot use read-only here \n",
    "# because we didn't use read only in the connection with jupysql (they have to be in the same mode)\n",
    "con = duckdb.connect(\"db/my_persistent_db.db\")\n",
    "con.sql(\"SELECT DISTINCT Zone FROM taxi_zone_lookup_table ORDER BY Zone LIMIT 5\")"
   ]
  },
  {
   "cell_type": "markdown",
   "metadata": {},
   "source": [
    "Let's close the connections ([source for extension](https://github.com/catherinedevlin/ipython-sql))"
   ]
  },
  {
   "cell_type": "code",
   "execution_count": 16,
   "metadata": {
    "vscode": {
     "languageId": "sql"
    }
   },
   "outputs": [],
   "source": [
    "%sql -x duckdb:///db/my_persistent_db.db"
   ]
  },
  {
   "cell_type": "code",
   "execution_count": 17,
   "metadata": {
    "vscode": {
     "languageId": "sql"
    }
   },
   "outputs": [],
   "source": [
    "con.close()"
   ]
  },
  {
   "cell_type": "markdown",
   "metadata": {},
   "source": [
    "\n",
    "NOTE: If we connected with the VSCode extension, this locks it here so we would have to disconnect or say read_only"
   ]
  },
  {
   "cell_type": "code",
   "execution_count": 18,
   "metadata": {},
   "outputs": [
    {
     "data": {
      "text/plain": [
       "┌─────────────────────────┐\n",
       "│          Zone           │\n",
       "│         varchar         │\n",
       "├─────────────────────────┤\n",
       "│ Allerton/Pelham Gardens │\n",
       "│ Alphabet City           │\n",
       "│ Arden Heights           │\n",
       "│ Arrochar/Fort Wadsworth │\n",
       "│ Astoria                 │\n",
       "└─────────────────────────┘"
      ]
     },
     "execution_count": 18,
     "metadata": {},
     "output_type": "execute_result"
    }
   ],
   "source": [
    "con = duckdb.connect(\"db/my_persistent_db.db\", read_only=True)\n",
    "con.sql(\"SELECT DISTINCT Zone FROM taxi_zone_lookup_table ORDER BY Zone LIMIT 5\")"
   ]
  },
  {
   "cell_type": "code",
   "execution_count": 19,
   "metadata": {},
   "outputs": [],
   "source": [
    "con.close()"
   ]
  },
  {
   "cell_type": "markdown",
   "metadata": {},
   "source": [
    "We can also read a file like this ([source](https://duckdb.org/docs/data/parquet/overview#read_parquet-function))"
   ]
  },
  {
   "cell_type": "code",
   "execution_count": 20,
   "metadata": {},
   "outputs": [
    {
     "data": {
      "text/plain": [
       "┌────────────┬───────────────┬───────────────────────────┬──────────────┐\n",
       "│ LocationID │    Borough    │           Zone            │ service_zone │\n",
       "│   int64    │    varchar    │          varchar          │   varchar    │\n",
       "├────────────┼───────────────┼───────────────────────────┼──────────────┤\n",
       "│          1 │ EWR           │ Newark Airport            │ EWR          │\n",
       "│          2 │ Queens        │ Jamaica Bay               │ Boro Zone    │\n",
       "│          3 │ Bronx         │ Allerton/Pelham Gardens   │ Boro Zone    │\n",
       "│          4 │ Manhattan     │ Alphabet City             │ Yellow Zone  │\n",
       "│          5 │ Staten Island │ Arden Heights             │ Boro Zone    │\n",
       "│          6 │ Staten Island │ Arrochar/Fort Wadsworth   │ Boro Zone    │\n",
       "│          7 │ Queens        │ Astoria                   │ Boro Zone    │\n",
       "│          8 │ Queens        │ Astoria Park              │ Boro Zone    │\n",
       "│          9 │ Queens        │ Auburndale                │ Boro Zone    │\n",
       "│         10 │ Queens        │ Baisley Park              │ Boro Zone    │\n",
       "│          · │   ·           │      ·                    │     ·        │\n",
       "│          · │   ·           │      ·                    │     ·        │\n",
       "│          · │   ·           │      ·                    │     ·        │\n",
       "│        256 │ Brooklyn      │ Williamsburg (South Side) │ Boro Zone    │\n",
       "│        257 │ Brooklyn      │ Windsor Terrace           │ Boro Zone    │\n",
       "│        258 │ Queens        │ Woodhaven                 │ Boro Zone    │\n",
       "│        259 │ Bronx         │ Woodlawn/Wakefield        │ Boro Zone    │\n",
       "│        260 │ Queens        │ Woodside                  │ Boro Zone    │\n",
       "│        261 │ Manhattan     │ World Trade Center        │ Yellow Zone  │\n",
       "│        262 │ Manhattan     │ Yorkville East            │ Yellow Zone  │\n",
       "│        263 │ Manhattan     │ Yorkville West            │ Yellow Zone  │\n",
       "│        264 │ Unknown       │ N/A                       │ N/A          │\n",
       "│        265 │ N/A           │ Outside of NYC            │ N/A          │\n",
       "├────────────┴───────────────┴───────────────────────────┴──────────────┤\n",
       "│ 265 rows (20 shown)                                         4 columns │\n",
       "└───────────────────────────────────────────────────────────────────────┘"
      ]
     },
     "execution_count": 20,
     "metadata": {},
     "output_type": "execute_result"
    }
   ],
   "source": [
    "duckdb.read_csv('gs://anna_demo/taxi_zone_lookup.csv')"
   ]
  },
  {
   "cell_type": "markdown",
   "metadata": {},
   "source": [
    "Or for parquet [source](https://duckdb.org/docs/guides/file_formats/query_parquet.html)"
   ]
  },
  {
   "cell_type": "code",
   "execution_count": 21,
   "metadata": {},
   "outputs": [
    {
     "data": {
      "text/plain": [
       "┌──────────┬──────────────────────┬──────────────────────┬───┬──────────────┬──────────────────────┬─────────────┐\n",
       "│ VendorID │ tpep_pickup_datetime │ tpep_dropoff_datet…  │ … │ total_amount │ congestion_surcharge │ Airport_fee │\n",
       "│  int32   │      timestamp       │      timestamp       │   │    double    │        double        │   double    │\n",
       "├──────────┼──────────────────────┼──────────────────────┼───┼──────────────┼──────────────────────┼─────────────┤\n",
       "│        2 │ 2024-01-01 00:57:55  │ 2024-01-01 01:17:43  │ … │         22.7 │                  2.5 │         0.0 │\n",
       "│        1 │ 2024-01-01 00:03:00  │ 2024-01-01 00:09:36  │ … │        18.75 │                  2.5 │         0.0 │\n",
       "│        1 │ 2024-01-01 00:17:06  │ 2024-01-01 00:35:01  │ … │         31.3 │                  2.5 │         0.0 │\n",
       "│        1 │ 2024-01-01 00:36:38  │ 2024-01-01 00:44:56  │ … │         17.0 │                  2.5 │         0.0 │\n",
       "│        1 │ 2024-01-01 00:46:51  │ 2024-01-01 00:52:57  │ … │         16.1 │                  2.5 │         0.0 │\n",
       "│        1 │ 2024-01-01 00:54:08  │ 2024-01-01 01:26:31  │ … │         41.5 │                  2.5 │         0.0 │\n",
       "│        2 │ 2024-01-01 00:49:44  │ 2024-01-01 01:15:47  │ … │        64.95 │                  0.0 │        1.75 │\n",
       "│        1 │ 2024-01-01 00:30:40  │ 2024-01-01 00:58:40  │ … │         30.4 │                  2.5 │         0.0 │\n",
       "│        2 │ 2024-01-01 00:26:01  │ 2024-01-01 00:54:12  │ … │         36.0 │                  2.5 │         0.0 │\n",
       "│        2 │ 2024-01-01 00:28:08  │ 2024-01-01 00:29:16  │ … │          8.0 │                  2.5 │         0.0 │\n",
       "├──────────┴──────────────────────┴──────────────────────┴───┴──────────────┴──────────────────────┴─────────────┤\n",
       "│ 10 rows                                                                                   19 columns (6 shown) │\n",
       "└────────────────────────────────────────────────────────────────────────────────────────────────────────────────┘"
      ]
     },
     "execution_count": 21,
     "metadata": {},
     "output_type": "execute_result"
    }
   ],
   "source": [
    "duckdb.read_parquet(\"gs://anna_demo/yellow_tripdata_2024-01.parquet\").limit(10)"
   ]
  },
  {
   "cell_type": "markdown",
   "metadata": {},
   "source": [
    "There's also a relational API similar to pandas/polars. Although if you're doing filters on columns on a remote file, then I think doing them in the query directly is faster because then duckdb will only retrieve the columns needed"
   ]
  },
  {
   "cell_type": "code",
   "execution_count": 22,
   "metadata": {},
   "outputs": [
    {
     "data": {
      "text/plain": [
       "┌──────────────┐\n",
       "│ total_amount │\n",
       "│    double    │\n",
       "├──────────────┤\n",
       "│       127.94 │\n",
       "│       134.75 │\n",
       "│       103.36 │\n",
       "│       114.96 │\n",
       "│        217.2 │\n",
       "└──────────────┘"
      ]
     },
     "execution_count": 22,
     "metadata": {},
     "output_type": "execute_result"
    }
   ],
   "source": [
    "duckdb.read_parquet(\"gs://anna_demo/yellow_tripdata_2024-01.parquet\").select(\n",
    "    \"total_amount\"\n",
    ").filter(\"total_amount > 100\").limit(5)"
   ]
  },
  {
   "cell_type": "code",
   "execution_count": 23,
   "metadata": {},
   "outputs": [
    {
     "data": {
      "text/plain": [
       "┌──────────────┐\n",
       "│ total_amount │\n",
       "│    double    │\n",
       "├──────────────┤\n",
       "│       127.94 │\n",
       "│       134.75 │\n",
       "│       103.36 │\n",
       "│       114.96 │\n",
       "│        217.2 │\n",
       "└──────────────┘"
      ]
     },
     "execution_count": 23,
     "metadata": {},
     "output_type": "execute_result"
    }
   ],
   "source": [
    "duckdb.sql(\"\"\"SELECT total_amount FROM 'gs://anna_demo/yellow_tripdata_2024-01.parquet'\n",
    "           WHERE total_amount > 100 LIMIT 5\"\"\")"
   ]
  },
  {
   "cell_type": "markdown",
   "metadata": {},
   "source": [
    "We can also query data with a wildcard e.g. I have two files that match this pattern in my bucket"
   ]
  },
  {
   "cell_type": "code",
   "execution_count": 24,
   "metadata": {},
   "outputs": [
    {
     "data": {
      "text/plain": [
       "┌──────────────┐\n",
       "│ count_star() │\n",
       "│    int64     │\n",
       "├──────────────┤\n",
       "│      2964624 │\n",
       "└──────────────┘"
      ]
     },
     "execution_count": 24,
     "metadata": {},
     "output_type": "execute_result"
    }
   ],
   "source": [
    "duckdb.sql(\"SELECT count(*) FROM 'gs://anna_demo/yellow_tripdata_2024-01.parquet'\")"
   ]
  },
  {
   "cell_type": "code",
   "execution_count": 25,
   "metadata": {},
   "outputs": [
    {
     "data": {
      "text/plain": [
       "┌──────────────┐\n",
       "│ count_star() │\n",
       "│    int64     │\n",
       "├──────────────┤\n",
       "│      3007526 │\n",
       "└──────────────┘"
      ]
     },
     "execution_count": 25,
     "metadata": {},
     "output_type": "execute_result"
    }
   ],
   "source": [
    "duckdb.sql(\"SELECT count(*) FROM 'gs://anna_demo/yellow_tripdata_2024-02.parquet'\")"
   ]
  },
  {
   "cell_type": "code",
   "execution_count": 26,
   "metadata": {},
   "outputs": [
    {
     "data": {
      "text/plain": [
       "┌──────────────┐\n",
       "│ count_star() │\n",
       "│    int64     │\n",
       "├──────────────┤\n",
       "│      5972150 │\n",
       "└──────────────┘"
      ]
     },
     "execution_count": 26,
     "metadata": {},
     "output_type": "execute_result"
    }
   ],
   "source": [
    "duckdb.sql(\"SELECT count(*) FROM 'gs://anna_demo/yellow_tripdata_*.parquet'\")"
   ]
  },
  {
   "cell_type": "markdown",
   "metadata": {},
   "source": [
    "We can create a pandas dataframe from a file or table. There are other options for converting to a polars df, arrow table, numpy arrays, or list of tuples [source](https://duckdb.org/docs/api/python/overview#result-conversion))"
   ]
  },
  {
   "cell_type": "code",
   "execution_count": 27,
   "metadata": {},
   "outputs": [
    {
     "data": {
      "text/html": [
       "<div>\n",
       "<style scoped>\n",
       "    .dataframe tbody tr th:only-of-type {\n",
       "        vertical-align: middle;\n",
       "    }\n",
       "\n",
       "    .dataframe tbody tr th {\n",
       "        vertical-align: top;\n",
       "    }\n",
       "\n",
       "    .dataframe thead th {\n",
       "        text-align: right;\n",
       "    }\n",
       "</style>\n",
       "<table border=\"1\" class=\"dataframe\">\n",
       "  <thead>\n",
       "    <tr style=\"text-align: right;\">\n",
       "      <th></th>\n",
       "      <th>LocationID</th>\n",
       "      <th>Borough</th>\n",
       "      <th>Zone</th>\n",
       "      <th>service_zone</th>\n",
       "    </tr>\n",
       "  </thead>\n",
       "  <tbody>\n",
       "    <tr>\n",
       "      <th>0</th>\n",
       "      <td>4</td>\n",
       "      <td>Manhattan</td>\n",
       "      <td>Alphabet City</td>\n",
       "      <td>Yellow Zone</td>\n",
       "    </tr>\n",
       "    <tr>\n",
       "      <th>1</th>\n",
       "      <td>12</td>\n",
       "      <td>Manhattan</td>\n",
       "      <td>Battery Park</td>\n",
       "      <td>Yellow Zone</td>\n",
       "    </tr>\n",
       "    <tr>\n",
       "      <th>2</th>\n",
       "      <td>13</td>\n",
       "      <td>Manhattan</td>\n",
       "      <td>Battery Park City</td>\n",
       "      <td>Yellow Zone</td>\n",
       "    </tr>\n",
       "    <tr>\n",
       "      <th>3</th>\n",
       "      <td>24</td>\n",
       "      <td>Manhattan</td>\n",
       "      <td>Bloomingdale</td>\n",
       "      <td>Yellow Zone</td>\n",
       "    </tr>\n",
       "    <tr>\n",
       "      <th>4</th>\n",
       "      <td>41</td>\n",
       "      <td>Manhattan</td>\n",
       "      <td>Central Harlem</td>\n",
       "      <td>Boro Zone</td>\n",
       "    </tr>\n",
       "    <tr>\n",
       "      <th>...</th>\n",
       "      <td>...</td>\n",
       "      <td>...</td>\n",
       "      <td>...</td>\n",
       "      <td>...</td>\n",
       "    </tr>\n",
       "    <tr>\n",
       "      <th>64</th>\n",
       "      <td>246</td>\n",
       "      <td>Manhattan</td>\n",
       "      <td>West Chelsea/Hudson Yards</td>\n",
       "      <td>Yellow Zone</td>\n",
       "    </tr>\n",
       "    <tr>\n",
       "      <th>65</th>\n",
       "      <td>249</td>\n",
       "      <td>Manhattan</td>\n",
       "      <td>West Village</td>\n",
       "      <td>Yellow Zone</td>\n",
       "    </tr>\n",
       "    <tr>\n",
       "      <th>66</th>\n",
       "      <td>261</td>\n",
       "      <td>Manhattan</td>\n",
       "      <td>World Trade Center</td>\n",
       "      <td>Yellow Zone</td>\n",
       "    </tr>\n",
       "    <tr>\n",
       "      <th>67</th>\n",
       "      <td>262</td>\n",
       "      <td>Manhattan</td>\n",
       "      <td>Yorkville East</td>\n",
       "      <td>Yellow Zone</td>\n",
       "    </tr>\n",
       "    <tr>\n",
       "      <th>68</th>\n",
       "      <td>263</td>\n",
       "      <td>Manhattan</td>\n",
       "      <td>Yorkville West</td>\n",
       "      <td>Yellow Zone</td>\n",
       "    </tr>\n",
       "  </tbody>\n",
       "</table>\n",
       "<p>69 rows × 4 columns</p>\n",
       "</div>"
      ],
      "text/plain": [
       "    LocationID    Borough                       Zone service_zone\n",
       "0            4  Manhattan              Alphabet City  Yellow Zone\n",
       "1           12  Manhattan               Battery Park  Yellow Zone\n",
       "2           13  Manhattan          Battery Park City  Yellow Zone\n",
       "3           24  Manhattan               Bloomingdale  Yellow Zone\n",
       "4           41  Manhattan             Central Harlem    Boro Zone\n",
       "..         ...        ...                        ...          ...\n",
       "64         246  Manhattan  West Chelsea/Hudson Yards  Yellow Zone\n",
       "65         249  Manhattan               West Village  Yellow Zone\n",
       "66         261  Manhattan         World Trade Center  Yellow Zone\n",
       "67         262  Manhattan             Yorkville East  Yellow Zone\n",
       "68         263  Manhattan             Yorkville West  Yellow Zone\n",
       "\n",
       "[69 rows x 4 columns]"
      ]
     },
     "execution_count": 27,
     "metadata": {},
     "output_type": "execute_result"
    }
   ],
   "source": [
    "taxi_zone_lookup_manhattan_df = duckdb.sql(\"FROM taxi_zone_lookup WHERE Borough = 'Manhattan'\").df()\n",
    "taxi_zone_lookup_manhattan_df"
   ]
  },
  {
   "cell_type": "markdown",
   "metadata": {},
   "source": [
    "We can then query the pandas dataframe directly"
   ]
  },
  {
   "cell_type": "code",
   "execution_count": 28,
   "metadata": {},
   "outputs": [
    {
     "data": {
      "text/plain": [
       "┌────────────┬───────────┬───────────────────────────┬──────────────┐\n",
       "│ LocationID │  Borough  │           Zone            │ service_zone │\n",
       "│   int64    │  varchar  │          varchar          │   varchar    │\n",
       "├────────────┼───────────┼───────────────────────────┼──────────────┤\n",
       "│          4 │ Manhattan │ Alphabet City             │ Yellow Zone  │\n",
       "│         12 │ Manhattan │ Battery Park              │ Yellow Zone  │\n",
       "│         13 │ Manhattan │ Battery Park City         │ Yellow Zone  │\n",
       "│         24 │ Manhattan │ Bloomingdale              │ Yellow Zone  │\n",
       "│         41 │ Manhattan │ Central Harlem            │ Boro Zone    │\n",
       "│         42 │ Manhattan │ Central Harlem North      │ Boro Zone    │\n",
       "│         43 │ Manhattan │ Central Park              │ Yellow Zone  │\n",
       "│         45 │ Manhattan │ Chinatown                 │ Yellow Zone  │\n",
       "│         48 │ Manhattan │ Clinton East              │ Yellow Zone  │\n",
       "│         50 │ Manhattan │ Clinton West              │ Yellow Zone  │\n",
       "│          · │     ·     │      ·                    │      ·       │\n",
       "│          · │     ·     │      ·                    │      ·       │\n",
       "│          · │     ·     │      ·                    │      ·       │\n",
       "│        237 │ Manhattan │ Upper East Side South     │ Yellow Zone  │\n",
       "│        238 │ Manhattan │ Upper West Side North     │ Yellow Zone  │\n",
       "│        239 │ Manhattan │ Upper West Side South     │ Yellow Zone  │\n",
       "│        243 │ Manhattan │ Washington Heights North  │ Boro Zone    │\n",
       "│        244 │ Manhattan │ Washington Heights South  │ Boro Zone    │\n",
       "│        246 │ Manhattan │ West Chelsea/Hudson Yards │ Yellow Zone  │\n",
       "│        249 │ Manhattan │ West Village              │ Yellow Zone  │\n",
       "│        261 │ Manhattan │ World Trade Center        │ Yellow Zone  │\n",
       "│        262 │ Manhattan │ Yorkville East            │ Yellow Zone  │\n",
       "│        263 │ Manhattan │ Yorkville West            │ Yellow Zone  │\n",
       "├────────────┴───────────┴───────────────────────────┴──────────────┤\n",
       "│ 69 rows (20 shown)                                      4 columns │\n",
       "└───────────────────────────────────────────────────────────────────┘"
      ]
     },
     "execution_count": 28,
     "metadata": {},
     "output_type": "execute_result"
    }
   ],
   "source": [
    "duckdb.sql(\"FROM taxi_zone_lookup_manhattan_df\")"
   ]
  },
  {
   "cell_type": "markdown",
   "metadata": {},
   "source": [
    "We can also do this without converting to a dataframe, but just assigning to a variable"
   ]
  },
  {
   "cell_type": "code",
   "execution_count": 29,
   "metadata": {},
   "outputs": [
    {
     "data": {
      "text/plain": [
       "┌────────────┬───────────┬───────────────────┬──────────────┐\n",
       "│ LocationID │  Borough  │       Zone        │ service_zone │\n",
       "│   int64    │  varchar  │      varchar      │   varchar    │\n",
       "├────────────┼───────────┼───────────────────┼──────────────┤\n",
       "│          4 │ Manhattan │ Alphabet City     │ Yellow Zone  │\n",
       "│         12 │ Manhattan │ Battery Park      │ Yellow Zone  │\n",
       "│         13 │ Manhattan │ Battery Park City │ Yellow Zone  │\n",
       "│         24 │ Manhattan │ Bloomingdale      │ Yellow Zone  │\n",
       "│         41 │ Manhattan │ Central Harlem    │ Boro Zone    │\n",
       "└────────────┴───────────┴───────────────────┴──────────────┘"
      ]
     },
     "execution_count": 29,
     "metadata": {},
     "output_type": "execute_result"
    }
   ],
   "source": [
    "taxi_zone_lookup_manhattan = duckdb.sql(\"FROM taxi_zone_lookup WHERE Borough = 'Manhattan' limit 5\")\n",
    "duckdb.sql(\"FROM taxi_zone_lookup_manhattan\")"
   ]
  },
  {
   "cell_type": "markdown",
   "metadata": {},
   "source": [
    "We can also do joins on remote files e.g."
   ]
  },
  {
   "cell_type": "code",
   "execution_count": 30,
   "metadata": {},
   "outputs": [
    {
     "data": {
      "text/plain": [
       "┌───────────────┬───────────────────┐\n",
       "│    Borough    │ max(total_amount) │\n",
       "│    varchar    │      double       │\n",
       "├───────────────┼───────────────────┤\n",
       "│ Bronx         │            2225.3 │\n",
       "│ Brooklyn      │             801.0 │\n",
       "│ EWR           │            323.33 │\n",
       "│ Manhattan     │            775.48 │\n",
       "│ N/A           │             900.0 │\n",
       "│ Queens        │            940.93 │\n",
       "│ Staten Island │            354.23 │\n",
       "│ Unknown       │            5000.0 │\n",
       "└───────────────┴───────────────────┘"
      ]
     },
     "execution_count": 30,
     "metadata": {},
     "output_type": "execute_result"
    }
   ],
   "source": [
    "duckdb.sql(\"\"\"SELECT l.Borough, max(total_amount) \n",
    "           FROM 'gs://anna_demo/yellow_tripdata_2024-01.parquet' t\n",
    "           INNER JOIN 'gs://anna_demo/taxi_zone_lookup.csv' l\n",
    "              on t.PULocationID = l.LocationID\n",
    "             GROUP BY l.Borough\n",
    "           ORDER BY 1\n",
    "           \"\"\")"
   ]
  },
  {
   "cell_type": "code",
   "execution_count": 31,
   "metadata": {},
   "outputs": [
    {
     "data": {
      "text/plain": [
       "┌──────────────┐\n",
       "│ count_star() │\n",
       "│    int64     │\n",
       "├──────────────┤\n",
       "│      2964624 │\n",
       "└──────────────┘"
      ]
     },
     "execution_count": 31,
     "metadata": {},
     "output_type": "execute_result"
    }
   ],
   "source": [
    "duckdb.sql(\"\"\"SELECT count(*)\n",
    "           FROM 'gs://anna_demo/yellow_tripdata_2024-01.parquet'\"\"\")"
   ]
  },
  {
   "cell_type": "code",
   "execution_count": 32,
   "metadata": {},
   "outputs": [
    {
     "data": {
      "text/plain": [
       "┌──────────────┐\n",
       "│ count_star() │\n",
       "│    int64     │\n",
       "├──────────────┤\n",
       "│      3007526 │\n",
       "└──────────────┘"
      ]
     },
     "execution_count": 32,
     "metadata": {},
     "output_type": "execute_result"
    }
   ],
   "source": [
    "duckdb.sql(\"\"\"SELECT count(*)\n",
    "           FROM 'gs://anna_demo/yellow_tripdata_2024-02.parquet'\"\"\")"
   ]
  },
  {
   "cell_type": "code",
   "execution_count": 33,
   "metadata": {},
   "outputs": [
    {
     "data": {
      "text/plain": [
       "┌──────────────┐\n",
       "│ count_star() │\n",
       "│    int64     │\n",
       "├──────────────┤\n",
       "│      5972150 │\n",
       "└──────────────┘"
      ]
     },
     "execution_count": 33,
     "metadata": {},
     "output_type": "execute_result"
    }
   ],
   "source": [
    "duckdb.sql(\"\"\"SELECT count(*)\n",
    "           FROM 'gs://anna_demo/yellow_tripdata_*.parquet'\"\"\")"
   ]
  },
  {
   "cell_type": "markdown",
   "metadata": {},
   "source": [
    "Let's read some real data from one of our [RTL buckets](https://console.cloud.google.com/storage/browser/mle_datasets_dev/rtl_publication/rtl_publication_etl/data?pageState=(%22StorageObjectListTable%22:(%22f%22:%22%255B%255D%22))&project=ocean-ml-sandbox). This contains the PublicationId, Title and Abstract"
   ]
  },
  {
   "cell_type": "code",
   "execution_count": 47,
   "metadata": {},
   "outputs": [
    {
     "data": {
      "text/plain": [
       "┌───────────────┬──────────────────────┬───────────────────────────────────────────────────────────────────────────────┐\n",
       "│ PublicationId │        Title         │                                   Abstract                                    │\n",
       "│     int64     │       varchar        │                                    varchar                                    │\n",
       "├───────────────┼──────────────────────┼───────────────────────────────────────────────────────────────────────────────┤\n",
       "│  360777386437 │ preparation and pr…  │ ferroelectric lead lanthanum zirconate titanate (plzt 9/65/35) thin films w…  │\n",
       "└───────────────┴──────────────────────┴───────────────────────────────────────────────────────────────────────────────┘"
      ]
     },
     "execution_count": 47,
     "metadata": {},
     "output_type": "execute_result"
    }
   ],
   "source": [
    "ddb_df = duckdb.sql(\"\"\"FROM 'gs://mle_datasets_dev/rtl_publication/rtl_publication_etl/data/data-000000000000.parquet'\"\"\")\n",
    "ddb_df_filtered = duckdb.sql(\"\"\"\n",
    "        FROM ddb_df\n",
    "        WHERE PublicationId = 360777386437\"\"\")\n",
    "ddb_df_filtered"
   ]
  },
  {
   "cell_type": "code",
   "execution_count": 48,
   "metadata": {},
   "outputs": [
    {
     "name": "stdout",
     "output_type": "stream",
     "text": [
      "Size of the duckdb object: 56 bytes\n",
      "Size of the filtered duckdb object: 56 bytes\n"
     ]
    }
   ],
   "source": [
    "print(f\"Size of the duckdb object: {sys.getsizeof(ddb_df)} bytes\")\n",
    "print(f\"Size of the filtered duckdb object: {sys.getsizeof(ddb_df_filtered)} bytes\")"
   ]
  },
  {
   "cell_type": "markdown",
   "metadata": {},
   "source": [
    "Let's compare with pandas in terms of speed and size"
   ]
  },
  {
   "cell_type": "code",
   "execution_count": 49,
   "metadata": {},
   "outputs": [
    {
     "data": {
      "text/html": [
       "<div>\n",
       "<style scoped>\n",
       "    .dataframe tbody tr th:only-of-type {\n",
       "        vertical-align: middle;\n",
       "    }\n",
       "\n",
       "    .dataframe tbody tr th {\n",
       "        vertical-align: top;\n",
       "    }\n",
       "\n",
       "    .dataframe thead th {\n",
       "        text-align: right;\n",
       "    }\n",
       "</style>\n",
       "<table border=\"1\" class=\"dataframe\">\n",
       "  <thead>\n",
       "    <tr style=\"text-align: right;\">\n",
       "      <th></th>\n",
       "      <th>PublicationId</th>\n",
       "      <th>Title</th>\n",
       "      <th>Abstract</th>\n",
       "    </tr>\n",
       "  </thead>\n",
       "  <tbody>\n",
       "    <tr>\n",
       "      <th>9997</th>\n",
       "      <td>360777386437</td>\n",
       "      <td>preparation and properties of (pb, la)(zr,ti)o...</td>\n",
       "      <td>ferroelectric lead lanthanum zirconate titanat...</td>\n",
       "    </tr>\n",
       "  </tbody>\n",
       "</table>\n",
       "</div>"
      ],
      "text/plain": [
       "      PublicationId                                              Title  \\\n",
       "9997   360777386437  preparation and properties of (pb, la)(zr,ti)o...   \n",
       "\n",
       "                                               Abstract  \n",
       "9997  ferroelectric lead lanthanum zirconate titanat...  "
      ]
     },
     "execution_count": 49,
     "metadata": {},
     "output_type": "execute_result"
    }
   ],
   "source": [
    "pd_df = pd.read_parquet('gs://mle_datasets_dev/rtl_publication/rtl_publication_etl/data/data-000000000000.parquet')\n",
    "pd_df_filtered = pd_df[pd_df[\"PublicationId\"] == 360777386437]\n",
    "pd_df_filtered"
   ]
  },
  {
   "cell_type": "code",
   "execution_count": 50,
   "metadata": {},
   "outputs": [
    {
     "name": "stdout",
     "output_type": "stream",
     "text": [
      "Size of the pandas dataframe object: 283386133 bytes\n",
      "Size of the filtered pandas dataframe object: 1834 bytes\n"
     ]
    }
   ],
   "source": [
    "print(f\"Size of the pandas dataframe object: {sys.getsizeof(pd_df)} bytes\")\n",
    "print(f\"Size of the filtered pandas dataframe object: {sys.getsizeof(pd_df_filtered)} bytes\")\n"
   ]
  },
  {
   "cell_type": "markdown",
   "metadata": {},
   "source": [
    "Let's compare with polars"
   ]
  },
  {
   "cell_type": "code",
   "execution_count": 51,
   "metadata": {},
   "outputs": [
    {
     "data": {
      "text/html": [
       "<div><style>\n",
       ".dataframe > thead > tr,\n",
       ".dataframe > tbody > tr {\n",
       "  text-align: right;\n",
       "  white-space: pre-wrap;\n",
       "}\n",
       "</style>\n",
       "<small>shape: (1, 3)</small><table border=\"1\" class=\"dataframe\"><thead><tr><th>PublicationId</th><th>Title</th><th>Abstract</th></tr><tr><td>i64</td><td>str</td><td>str</td></tr></thead><tbody><tr><td>360777386437</td><td>&quot;preparation and properties of …</td><td>&quot;ferroelectric lead lanthanum z…</td></tr></tbody></table></div>"
      ],
      "text/plain": [
       "shape: (1, 3)\n",
       "┌───────────────┬─────────────────────────────────┬─────────────────────────────────┐\n",
       "│ PublicationId ┆ Title                           ┆ Abstract                        │\n",
       "│ ---           ┆ ---                             ┆ ---                             │\n",
       "│ i64           ┆ str                             ┆ str                             │\n",
       "╞═══════════════╪═════════════════════════════════╪═════════════════════════════════╡\n",
       "│ 360777386437  ┆ preparation and properties of … ┆ ferroelectric lead lanthanum z… │\n",
       "└───────────────┴─────────────────────────────────┴─────────────────────────────────┘"
      ]
     },
     "execution_count": 51,
     "metadata": {},
     "output_type": "execute_result"
    }
   ],
   "source": [
    "pl_df = pl.scan_parquet('gs://mle_datasets_dev/rtl_publication/rtl_publication_etl/data/data-000000000000.parquet')\n",
    "pl_df_filtered = pl_df.filter(pl.col(\"PublicationId\") == 360777386437).collect()\n",
    "pl_df_filtered"
   ]
  },
  {
   "cell_type": "code",
   "execution_count": 52,
   "metadata": {},
   "outputs": [
    {
     "name": "stdout",
     "output_type": "stream",
     "text": [
      "Size of the polars lazyframe object: 48 bytes\n",
      "Size of the filtered polars dataframe object: 48 bytes\n"
     ]
    }
   ],
   "source": [
    "print(f\"Size of the polars lazyframe object: {sys.getsizeof(pl_df)} bytes\")\n",
    "print(f\"Size of the filtered polars dataframe object: {sys.getsizeof(pl_df_filtered)} bytes\")\n"
   ]
  },
  {
   "cell_type": "markdown",
   "metadata": {},
   "source": [
    "So far, polars is pretty comparable to duckdb whereas pandas obviously requires more memory"
   ]
  },
  {
   "cell_type": "markdown",
   "metadata": {},
   "source": [
    "Let's see how many records we have over all the parquet files (this takes about 4mins because there are 500 files)"
   ]
  },
  {
   "cell_type": "code",
   "execution_count": 54,
   "metadata": {},
   "outputs": [
    {
     "data": {
      "text/plain": [
       "┌──────────────┐\n",
       "│ count_star() │\n",
       "│    int64     │\n",
       "├──────────────┤\n",
       "│     77418681 │\n",
       "└──────────────┘"
      ]
     },
     "execution_count": 54,
     "metadata": {},
     "output_type": "execute_result"
    }
   ],
   "source": [
    "rtl_publications_count = duckdb.sql(\"\"\"\n",
    "        SELECT count(*)\n",
    "        FROM 'gs://mle_datasets_dev/rtl_publication/rtl_publication_etl/data/data-*.parquet'\"\"\")\n",
    "rtl_publications_count"
   ]
  },
  {
   "cell_type": "markdown",
   "metadata": {},
   "source": [
    "This takes longer with polars (I gave up after 10mins)"
   ]
  },
  {
   "cell_type": "code",
   "execution_count": 2,
   "metadata": {},
   "outputs": [],
   "source": [
    "pl_all_data = pl.scan_parquet('gs://mle_datasets_dev/rtl_publication/rtl_publication_etl/data/data-*.parquet')\n",
    "pl_all_data.select(pl.len())"
   ]
  },
  {
   "cell_type": "markdown",
   "metadata": {},
   "source": [
    "As we can see, Polars performance is pretty comparable. Probably just a matter of preference e.g how we want to save the data, explore the data, whether we want to use SQL or learn the polars API, etc. Nothing stopping us from using a combination of all 3. \n",
    "\n",
    "Personally I find duckdb more intuitive than polars since it's just SQL, but I've also never used it for a real project so I'd have to see how easy it would be to use in a production environment"
   ]
  },
  {
   "cell_type": "markdown",
   "metadata": {},
   "source": [
    "# Appendix\n",
    "Uncomment the below cells if you want to play around with the data\n",
    "NOTE: It takes about 1h to load in all the data"
   ]
  },
  {
   "cell_type": "code",
   "execution_count": 25,
   "metadata": {},
   "outputs": [],
   "source": [
    "con = duckdb.connect(\"db/rtl.db\")\n",
    "con.register_filesystem(filesystem('gcs'))"
   ]
  },
  {
   "cell_type": "code",
   "execution_count": 16,
   "metadata": {},
   "outputs": [],
   "source": [
    "from google.cloud import storage\n",
    "\n",
    "def list_blobs(bucket_name, prefix):\n",
    "    \"\"\"Lists all the blobs in the bucket.\"\"\"\n",
    "    # bucket_name = \"your-bucket-name\"\n",
    "\n",
    "    storage_client = storage.Client()\n",
    "\n",
    "    # Note: Client.list_blobs requires at least package version 1.17.0.\n",
    "    blobs = storage_client.list_blobs(bucket_name, prefix=prefix)\n",
    "\n",
    "    # Note: The call returns a response only when the iterator is consumed.\n",
    "    for blob in blobs:\n",
    "        yield blob.name"
   ]
  },
  {
   "cell_type": "code",
   "execution_count": 26,
   "metadata": {},
   "outputs": [
    {
     "name": "stdout",
     "output_type": "stream",
     "text": [
      "Done with rtl_publication/rtl_publication_etl/data/data-000000000000.parquet\n",
      "Done with rtl_publication/rtl_publication_etl/data/data-000000000001.parquet\n",
      "Done with rtl_publication/rtl_publication_etl/data/data-000000000002.parquet\n",
      "Done with rtl_publication/rtl_publication_etl/data/data-000000000003.parquet\n",
      "Done with rtl_publication/rtl_publication_etl/data/data-000000000004.parquet\n",
      "Done with rtl_publication/rtl_publication_etl/data/data-000000000005.parquet\n",
      "Done with rtl_publication/rtl_publication_etl/data/data-000000000006.parquet\n"
     ]
    }
   ],
   "source": [
    "for i, filename in enumerate(list_blobs(bucket_name=\"mle_datasets_dev\", prefix=\"rtl_publication/rtl_publication_etl/data\")):\n",
    "    if i == 0:\n",
    "        action_type = \"CREATE TABLE rtl_publications AS \"\n",
    "    else:\n",
    "        action_type = \"INSERT INTO rtl_publications \"\n",
    "    \n",
    "    con.sql(f\"\"\"{action_type} FROM 'gs://mle_datasets_dev/{filename}'\"\"\")\n",
    "    print(\"Done with\", filename)"
   ]
  },
  {
   "cell_type": "code",
   "execution_count": null,
   "metadata": {},
   "outputs": [],
   "source": [
    "result_df = con.sql(\"FROM rtl_publications WHERE PublicationId = 360777386437\")\n",
    "result_df"
   ]
  }
 ],
 "metadata": {
  "kernelspec": {
   "display_name": ".venv",
   "language": "python",
   "name": "python3"
  },
  "language_info": {
   "codemirror_mode": {
    "name": "ipython",
    "version": 3
   },
   "file_extension": ".py",
   "mimetype": "text/x-python",
   "name": "python",
   "nbconvert_exporter": "python",
   "pygments_lexer": "ipython3",
   "version": "3.10.14"
  }
 },
 "nbformat": 4,
 "nbformat_minor": 2
}
